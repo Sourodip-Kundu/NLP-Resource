{
 "cells": [
  {
   "cell_type": "code",
   "execution_count": 1,
   "metadata": {
    "tags": []
   },
   "outputs": [],
   "source": [
    "import re\n",
    "from collections import Counter"
   ]
  },
  {
   "cell_type": "code",
   "execution_count": 2,
   "metadata": {
    "tags": []
   },
   "outputs": [],
   "source": [
    "# function to tokenise words\n",
    "def words(document):\n",
    "    \"Convert text to lower case and tokenise the document\"\n",
    "    return re.findall(r'\\w+', document.lower())"
   ]
  },
  {
   "cell_type": "code",
   "execution_count": 3,
   "metadata": {
    "tags": []
   },
   "outputs": [],
   "source": [
    "# create a frequency table of all the words of the document\n",
    "all_words = Counter(words(open('seed.txt').read()))"
   ]
  },
  {
   "cell_type": "code",
   "execution_count": 4,
   "metadata": {},
   "outputs": [
    {
     "data": {
      "text/plain": [
       "135"
      ]
     },
     "execution_count": 4,
     "metadata": {},
     "output_type": "execute_result"
    }
   ],
   "source": [
    "# check frequency of a random word, say, 'chair'\n",
    "all_words['chair']"
   ]
  },
  {
   "cell_type": "code",
   "execution_count": 5,
   "metadata": {},
   "outputs": [
    {
     "data": {
      "text/plain": [
       "[('the', 79809),\n",
       " ('of', 40024),\n",
       " ('and', 38312),\n",
       " ('to', 28765),\n",
       " ('in', 22023),\n",
       " ('a', 21124),\n",
       " ('that', 12512),\n",
       " ('he', 12401),\n",
       " ('was', 11410),\n",
       " ('it', 10681)]"
      ]
     },
     "execution_count": 5,
     "metadata": {},
     "output_type": "execute_result"
    }
   ],
   "source": [
    "# look at top 10 frequent words\n",
    "all_words.most_common(10)"
   ]
  },
  {
   "cell_type": "code",
   "execution_count": 6,
   "metadata": {
    "tags": []
   },
   "outputs": [],
   "source": [
    "def edits_one(word):\n",
    "    \"Create all edits that are one edit away from `word`.\"\n",
    "    alphabets    = 'abcdefghijklmnopqrstuvwxyz'\n",
    "    splits     = [(word[:i], word[i:])                   for i in range(len(word) + 1)]\n",
    "    deletes    = [left + right[1:]                       for left, right in splits if right]\n",
    "    inserts    = [left + c + right                       for left, right in splits for c in alphabets]\n",
    "    replaces   = [left + c + right[1:]                   for left, right in splits if right for c in alphabets]\n",
    "    transposes = [left + right[1] + right[0] + right[2:] for left, right in splits if len(right)>1]\n",
    "    return set(deletes + inserts + replaces + transposes)"
   ]
  },
  {
   "cell_type": "code",
   "execution_count": 7,
   "metadata": {
    "tags": []
   },
   "outputs": [],
   "source": [
    "def edits_two(word):\n",
    "    \"Create all edits that are two edits away from `word`.\"\n",
    "    return (e2 for e1 in edits_one(word) for e2 in edits_one(e1))"
   ]
  },
  {
   "cell_type": "code",
   "execution_count": 8,
   "metadata": {
    "tags": []
   },
   "outputs": [],
   "source": [
    "def known(words):\n",
    "    \"The subset of `words` that appear in the `all_words`.\"\n",
    "    return set(word for word in words if word in all_words)"
   ]
  },
  {
   "cell_type": "code",
   "execution_count": 9,
   "metadata": {
    "tags": []
   },
   "outputs": [],
   "source": [
    "def possible_corrections(word):\n",
    "    \"Generate possible spelling corrections for word.\"\n",
    "    return (known([word]) or known(edits_one(word)) or known(edits_two(word)) or [word])"
   ]
  },
  {
   "cell_type": "code",
   "execution_count": 10,
   "metadata": {
    "tags": []
   },
   "outputs": [],
   "source": [
    "def prob(word, N=sum(all_words.values())): \n",
    "    \"Probability of `word`: Number of appearances of 'word' / total number of tokens\"\n",
    "    return all_words[word] / N"
   ]
  },
  {
   "cell_type": "code",
   "execution_count": 11,
   "metadata": {},
   "outputs": [
    {
     "name": "stdout",
     "output_type": "stream",
     "text": [
      "336\n",
      "{'lonney', 'mxnney', 'monnek', 'monneys', 'monnel', 'moniney', 'munney', 'jonney', 'zmonney', 'monyey', 'qonney', 'monnep', 'mocney', 'omnney', 'monnet', 'monneb', 'mnonney', 'mlnney', 'mnnney', 'monnuey', 'monnely', 'movney', 'monneq', 'pmonney', 'mkonney', 'monneo', 'mxonney', 'mzonney', 'mnney', 'monnewy', 'monnesy', 'mondey', 'monneuy', 'monnjey', 'monnexy', 'zonney', 'mosney', 'mznney', 'monwey', 'monnqy', 'ronney', 'mbonney', 'bonney', 'montey', 'monnex', 'monhney', 'monniey', 'mmnney', 'moneney', 'momnney', 'monnejy', 'fonney', 'onney', 'mooney', 'cmonney', 'molnney', 'monngey', 'mtnney', 'tonney', 'monnxy', 'mnoney', 'mtonney', 'monzey', 'monney', 'qmonney', 'monpey', 'gonney', 'monhey', 'monnegy', 'monnepy', 'mjonney', 'mlonney', 'monnej', 'monnezy', 'monzney', 'monneyq', 'monneyc', 'moqnney', 'monneh', 'mondney', 'moynney', 'monqney', 'mongey', 'monneu', 'monjey', 'monnemy', 'moonney', 'monnzy', 'monneya', 'mynney', 'monnef', 'monneyp', 'mofney', 'monnec', 'mfonney', 'movnney', 'monvney', 'mronney', 'monneyd', 'monnay', 'rmonney', 'monnby', 'moxnney', 'monneyb', 'mojnney', 'monnhey', 'meonney', 'imonney', 'monnei', 'vonney', 'monuey', 'monnez', 'mqonney', 'monneyi', 'monnky', 'eonney', 'monnsy', 'mionney', 'mononey', 'monnrey', 'monnfy', 'moanney', 'sonney', 'omonney', 'lmonney', 'molney', 'monnefy', 'monneyr', 'monnedy', 'monnea', 'monnehy', 'mmonney', 'monnvey', 'monnuy', 'monrney', 'monnpey', 'monndey', 'moncey', 'mjnney', 'amonney', 'monneyk', 'monbney', 'monkey', 'monner', 'motnney', 'dmonney', 'morney', 'monkney', 'modnney', 'uonney', 'monngy', 'conney', 'mfnney', 'vmonney', 'monneyo', 'smonney', 'monaey', 'mownney', 'mconney', 'moniey', 'monneay', 'monnew', 'monneyv', 'msnney', 'jmonney', 'monnsey', 'mwonney', 'monfney', 'mknney', 'mogney', 'mocnney', 'monneyn', 'moaney', 'monoey', 'monqey', 'gmonney', 'monnry', 'monnmy', 'monnev', 'manney', 'kmonney', 'monnly', 'monmney', 'monneyx', 'monneg', 'moneny', 'monnye', 'monnxey', 'monnen', 'moncney', 'montney', 'monnzey', 'aonney', 'mounney', 'fmonney', 'nonney', 'monneny', 'monneym', 'monntey', 'mqnney', 'monnwey', 'monneyl', 'monnbey', 'monnvy', 'monneyy', 'monnes', 'mornney', 'monnfey', 'monyney', 'muonney', 'yonney', 'monnkey', 'mozney', 'tmonney', 'monneby', 'mhnney', 'monnpy', 'moeney', 'mokney', 'monnqey', 'mojney', 'monnmey', 'donney', 'myonney', 'monnaey', 'umonney', 'monnoey', 'monne', 'xmonney', 'monneyj', 'bmonney', 'monrey', 'monsey', 'monnem', 'moinney', 'monnyy', 'monnny', 'monlney', 'monneey', 'moiney', 'monneoy', 'moqney', 'mcnney', 'monny', 'xonney', 'honney', 'msonney', 'monnee', 'menney', 'mdonney', 'mgonney', 'monsney', 'monnyey', 'mopney', 'mrnney', 'monnevy', 'monnney', 'monned', 'mongney', 'monnecy', 'monjney', 'mdnney', 'monnoy', 'mopnney', 'ymonney', 'wmonney', 'modney', 'monneky', 'mouney', 'monnety', 'mowney', 'monmey', 'monneyh', 'monxney', 'monpney', 'monnjy', 'monncy', 'monniy', 'moznney', 'mvnney', 'monuney', 'ionney', 'monneyf', 'mhonney', 'monneyw', 'moenney', 'maonney', 'mbnney', 'mwnney', 'konney', 'momney', 'monnley', 'wonney', 'mpnney', 'monneyz', 'monnhy', 'motney', 'oonney', 'emonney', 'monneiy', 'monndy', 'moyney', 'monxey', 'monneqy', 'monnty', 'monncey', 'mohnney', 'minney', 'moneey', 'monaney', 'hmonney', 'mponney', 'mosnney', 'mobney', 'mohney', 'monneyt', 'money', 'monnery', 'ponney', 'monvey', 'mognney', 'moxney', 'monnwy', 'monneye', 'mgnney', 'nmonney', 'monwney', 'monfey', 'monley', 'monbey', 'mobnney', 'mvonney', 'monneyg', 'monneyu', 'moknney', 'mofnney'}\n"
     ]
    }
   ],
   "source": [
    "print(len(set(edits_one(\"monney\"))))\n",
    "print(edits_one(\"monney\"))"
   ]
  },
  {
   "cell_type": "code",
   "execution_count": 12,
   "metadata": {},
   "outputs": [
    {
     "name": "stdout",
     "output_type": "stream",
     "text": [
      "{'monkey', 'money'}\n"
     ]
    }
   ],
   "source": [
    "print(known(edits_one(\"monney\")))"
   ]
  },
  {
   "cell_type": "code",
   "execution_count": 13,
   "metadata": {},
   "outputs": [
    {
     "name": "stdout",
     "output_type": "stream",
     "text": [
      "51013\n",
      "{'monkey', 'money'}\n"
     ]
    }
   ],
   "source": [
    "# Let's look at words that are two edits away\n",
    "print(len(set(edits_two(\"monney\"))))\n",
    "print(known(edits_one(\"monney\")))"
   ]
  },
  {
   "cell_type": "code",
   "execution_count": 14,
   "metadata": {},
   "outputs": [
    {
     "name": "stdout",
     "output_type": "stream",
     "text": [
      "{'monkey', 'money'}\n"
     ]
    }
   ],
   "source": [
    "# Let's look at possible corrections of a word\n",
    "print(possible_corrections(\"monney\"))"
   ]
  },
  {
   "cell_type": "code",
   "execution_count": 15,
   "metadata": {},
   "outputs": [
    {
     "name": "stdout",
     "output_type": "stream",
     "text": [
      "0.0002922233626303688\n",
      "5.378344097491451e-06\n"
     ]
    }
   ],
   "source": [
    "# Let's look at probability of a word\n",
    "print(prob(\"money\"))\n",
    "print(prob(\"monkey\"))"
   ]
  },
  {
   "cell_type": "code",
   "execution_count": 16,
   "metadata": {},
   "outputs": [],
   "source": [
    "def spell_check(word):\n",
    "    \"Print the most probable spelling correction for `word` out of all the `possible_corrections`\"\n",
    "    correct_word = max(possible_corrections(word), key=prob)\n",
    "    if correct_word != word:\n",
    "        return \"Did you mean \" + correct_word + \"?\"\n",
    "    else:\n",
    "        return \"Correct spelling.\""
   ]
  },
  {
   "cell_type": "code",
   "execution_count": 17,
   "metadata": {},
   "outputs": [
    {
     "name": "stdout",
     "output_type": "stream",
     "text": [
      "Did you mean money?\n"
     ]
    }
   ],
   "source": [
    "# test spell check\n",
    "print(spell_check(\"monney\"))"
   ]
  }
 ],
 "metadata": {
  "kernelspec": {
   "display_name": "Python 3",
   "language": "python",
   "name": "python3"
  },
  "language_info": {
   "codemirror_mode": {
    "name": "ipython",
    "version": 3
   },
   "file_extension": ".py",
   "mimetype": "text/x-python",
   "name": "python",
   "nbconvert_exporter": "python",
   "pygments_lexer": "ipython3",
   "version": "3.9.12"
  }
 },
 "nbformat": 4,
 "nbformat_minor": 4
}
